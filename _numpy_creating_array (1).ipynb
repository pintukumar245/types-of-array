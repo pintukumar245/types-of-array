{
 "cells": [
  {
   "cell_type": "markdown",
   "id": "c76151ee-9021-42d4-b799-5de08b153e87",
   "metadata": {},
   "source": [
    "# creating array in numpy\n",
    "\n"
   ]
  },
  {
   "cell_type": "markdown",
   "id": "bfbfabef-2df7-4563-ac69-6c568f63a284",
   "metadata": {},
   "source": [
    "ONE DIMENSTIONAL ARRAY\n",
    "\n"
   ]
  },
  {
   "cell_type": "code",
   "execution_count": 9,
   "id": "7fcec61a-ab7a-4f79-9d31-8adb66a2142b",
   "metadata": {},
   "outputs": [
    {
     "name": "stdout",
     "output_type": "stream",
     "text": [
      "[2 3 4 5]\n"
     ]
    },
    {
     "data": {
      "text/plain": [
       "array([2, 3, 4, 5])"
      ]
     },
     "execution_count": 9,
     "metadata": {},
     "output_type": "execute_result"
    }
   ],
   "source": [
    "import numpy as np\n",
    "\n",
    "x= np.array([2,3,4,5])\n",
    "print(x)\n",
    "x\n",
    "# print(type(x))"
   ]
  },
  {
   "cell_type": "markdown",
   "id": "bca25282-93bc-46dc-883f-d206884df246",
   "metadata": {},
   "source": [
    "# 2d array"
   ]
  },
  {
   "cell_type": "code",
   "execution_count": 13,
   "id": "6121ebb0-4274-4314-a6f1-49d6c0ff201d",
   "metadata": {},
   "outputs": [
    {
     "name": "stdout",
     "output_type": "stream",
     "text": [
      "[[2 3 4]\n",
      " [5 6 7]]\n",
      "\n",
      "<class 'numpy.ndarray'>\n",
      "\n",
      "int32\n"
     ]
    }
   ],
   "source": [
    "x1=np.array([[2,3,4],[5,6,7]])\n",
    "print(x1)\n",
    "print()\n",
    "print(type(x1)) # class type\n",
    "print()\n",
    "print(x1.dtype) # data type"
   ]
  },
  {
   "cell_type": "markdown",
   "id": "6feac3fb-5104-46fc-9ebc-b4e97b537ef3",
   "metadata": {},
   "source": [
    "# fiend daimenstion"
   ]
  },
  {
   "cell_type": "code",
   "execution_count": 20,
   "id": "9c7b0283-b936-4544-8e49-fbe5b5667c9b",
   "metadata": {},
   "outputs": [
    {
     "name": "stdout",
     "output_type": "stream",
     "text": [
      "[2 3 4 5]\n",
      "\n",
      "<class 'numpy.ndarray'>\n",
      "\n",
      "data typr:  int32\n",
      "dimension:  1\n"
     ]
    }
   ],
   "source": [
    "a=np.array([2,3,4,5]) # list in passing value\n",
    "print(a) # disply array\n",
    "print()\n",
    "print(type(a)) #type of array\n",
    "print()\n",
    "print(\"data typr: \",a.dtype) # data type\n",
    "print(\"dimension: \",a.ndim)# dimenstion fiend"
   ]
  },
  {
   "cell_type": "markdown",
   "id": "ef3fd374-7c64-418d-98d3-55ad352c2eed",
   "metadata": {},
   "source": [
    "# fiend daimenstion"
   ]
  },
  {
   "cell_type": "code",
   "execution_count": 50,
   "id": "ca888478-c1af-43fd-a47b-7935c1dfaaa5",
   "metadata": {},
   "outputs": [
    {
     "name": "stdout",
     "output_type": "stream",
     "text": [
      "[[[2 3 4]\n",
      "  [4 5 6]\n",
      "  [4 5 3]]]\n",
      "\n",
      "<class 'numpy.ndarray'>\n",
      "\n",
      "type of type :  int32\n",
      "dimension: 3\n"
     ]
    }
   ],
   "source": [
    " a1=np.array([[2,3,4],[4,5,6],[4,5,3]])\n",
    "print(a1)\n",
    "print()\n",
    "print(type(a))\n",
    "print()\n",
    "print(\"type of type : \",a1.dtype)\n",
    "print(\"dimension:\",a1.ndim)"
   ]
  },
  {
   "cell_type": "markdown",
   "id": "cc397ace-2061-45fb-ad5b-f13bd10d456d",
   "metadata": {},
   "source": [
    "# creating multidimension array"
   ]
  },
  {
   "cell_type": "code",
   "execution_count": 57,
   "id": "aa76185a-e847-466f-8f62-f045357b4144",
   "metadata": {},
   "outputs": [
    {
     "name": "stdout",
     "output_type": "stream",
     "text": [
      "[[[[[[[[[[2 3 4]]]]]]]]]]\n",
      "10\n"
     ]
    }
   ],
   "source": [
    "arr=np.array([2,3,4],ndmin=10)\n",
    " \n",
    "print(arr)\n",
    "print(arr.ndim)"
   ]
  },
  {
   "cell_type": "code",
   "execution_count": 59,
   "id": "a7122309-066c-47ef-9397-87ebdf9080f7",
   "metadata": {},
   "outputs": [
    {
     "name": "stdout",
     "output_type": "stream",
     "text": [
      "[[[[[[[[[[[[3 5 7 8 9]]]]]]]]]]]]\n",
      "\n",
      "class type: <class 'numpy.ndarray'>\n",
      "\n",
      "data type: int32\n",
      "\n",
      "dimension: 12\n"
     ]
    }
   ],
   "source": [
    "ar=np.array([3,5,7,8,9],ndmin=12)\n",
    "print(ar)\n",
    "print()\n",
    "print(\"class type:\",type(ar))\n",
    "print()\n",
    "print(\"data type:\",ar.dtype)\n",
    "print()\n",
    "print(\"dimension:\",ar.ndim)"
   ]
  },
  {
   "cell_type": "code",
   "execution_count": 62,
   "id": "2e60b2da-cab2-4db0-b18e-38988275a1e7",
   "metadata": {},
   "outputs": [
    {
     "name": "stdout",
     "output_type": "stream",
     "text": [
      "[[[[[2 3 4 5]]]]]\n",
      "\n",
      "type of class <class 'numpy.ndarray'>\n",
      "\n",
      "data type: int32\n",
      "\n",
      "dimension: 5\n"
     ]
    }
   ],
   "source": [
    "ar1=np.array([2,3,4,5],ndmin=5)\n",
    "print(ar1)\n",
    "print()\n",
    "print(\"type of class\",type(ar1))\n",
    "print()\n",
    "print(\"data type:\",ar1.dtype)\n",
    "print()\n",
    "print(\"dimension:\",ar1.ndim)\n",
    "\n",
    "\n"
   ]
  },
  {
   "cell_type": "code",
   "execution_count": 64,
   "id": "4baf5294-9463-47ba-b4b5-7f553fcfa666",
   "metadata": {},
   "outputs": [
    {
     "name": "stdout",
     "output_type": "stream",
     "text": [
      "[[[3 4 5]]]\n",
      "\n",
      "<class 'numpy.ndarray'>\n",
      "\n",
      "int32\n",
      "\n",
      "3\n"
     ]
    }
   ],
   "source": [
    "z=np.array([3,4,5],ndmin=3)\n",
    "\n",
    "print(z)\n",
    "print()\n",
    "\n",
    "print(type(z))\n",
    "print()\n",
    "print(z.dtype)\n",
    "print()\n",
    "print(z.ndim)\n",
    "\n",
    "\n"
   ]
  }
 ],
 "metadata": {
  "kernelspec": {
   "display_name": "Python 3 (ipykernel)",
   "language": "python",
   "name": "python3"
  },
  "language_info": {
   "codemirror_mode": {
    "name": "ipython",
    "version": 3
   },
   "file_extension": ".py",
   "mimetype": "text/x-python",
   "name": "python",
   "nbconvert_exporter": "python",
   "pygments_lexer": "ipython3",
   "version": "3.12.7"
  }
 },
 "nbformat": 4,
 "nbformat_minor": 5
}
