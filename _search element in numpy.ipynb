{
 "cells": [
  {
   "cell_type": "code",
   "execution_count": 21,
   "id": "6886de17-228a-4d93-8292-b585b250ce20",
   "metadata": {},
   "outputs": [],
   "source": [
    "import numpy as np"
   ]
  },
  {
   "cell_type": "markdown",
   "id": "6fe084d0-a8d4-44c3-bc08-d53940f8db9b",
   "metadata": {},
   "source": [
    "# Searching element"
   ]
  },
  {
   "cell_type": "code",
   "execution_count": 23,
   "id": "8870be44-aaae-47f3-b54c-d3ddfdbb0e3e",
   "metadata": {},
   "outputs": [
    {
     "name": "stdout",
     "output_type": "stream",
     "text": [
      "(array([2, 3], dtype=int64),)\n"
     ]
    }
   ],
   "source": [
    "arr=np.array([10,20,30,40])\n",
    "ar=np.where(arr>20)\n",
    "print(ar)"
   ]
  },
  {
   "cell_type": "markdown",
   "id": "9a7a8ff2-6e97-4c2b-be53-cb7f4308d75b",
   "metadata": {},
   "source": [
    "## Sort element"
   ]
  },
  {
   "cell_type": "code",
   "execution_count": 30,
   "id": "04490f7d-6396-41df-bf03-11e707d5948e",
   "metadata": {},
   "outputs": [
    {
     "name": "stdout",
     "output_type": "stream",
     "text": [
      "Sorted array :\n",
      " [ 4 10 20 30 50 60]\n",
      "\n",
      "dimension: 1\n"
     ]
    }
   ],
   "source": [
    "# ome dimension \n",
    "s=np.array([10,20,4,30,50,60])\n",
    "o=np.sort(s)\n",
    "print(\"Sorted array :\\n\",o)\n",
    "print()\n",
    "print(\"dimension:\",o.ndim)"
   ]
  },
  {
   "cell_type": "code",
   "execution_count": 34,
   "id": "c73b8b90-dfeb-47bd-9779-71ad6009f031",
   "metadata": {},
   "outputs": [
    {
     "name": "stdout",
     "output_type": "stream",
     "text": [
      " acoding to 1 axis array :\n",
      " [[ 3  4  5]\n",
      " [ 6  8  9]\n",
      " [10 20 30]]\n",
      "\n",
      "acoding to 0 axis array: \n",
      " [[ 3  4  5]\n",
      " [ 6  8  9]\n",
      " [10 20 30]]\n"
     ]
    }
   ],
   "source": [
    "# Two dimension \n",
    "r=([[3,4,5],[6,8,9],[10,20,30]])\n",
    "t=np.sort(r,axis=1) # acoding to 1 axis array \n",
    "print(\" acoding to 1 axis array :\\n\",t)\n",
    "print()\n",
    "t1=np.sort(r,axis=0)# acoding to 0 axis array\n",
    "print(\"acoding to 0 axis array: \\n\",t1)"
   ]
  },
  {
   "cell_type": "markdown",
   "id": "0317aaba-1aca-4c23-9b55-f80c03756aea",
   "metadata": {},
   "source": [
    "## Filter in array"
   ]
  },
  {
   "cell_type": "code",
   "execution_count": 41,
   "id": "7ab13892-b48e-40f1-b787-519ccb43ec20",
   "metadata": {},
   "outputs": [
    {
     "name": "stdout",
     "output_type": "stream",
     "text": [
      "[12 56]\n"
     ]
    }
   ],
   "source": [
    "fil=np.array([12,14,56,78,45])\n",
    "f=[True,False,True,False,False]\n",
    " \n",
    "# new=fil[f]\n",
    "print(fil[f]) "
   ]
  },
  {
   "cell_type": "code",
   "execution_count": 44,
   "id": "fa02a1cc-4f71-4baf-a221-3c4bf99b1cbb",
   "metadata": {},
   "outputs": [
    {
     "name": "stdout",
     "output_type": "stream",
     "text": [
      "[2 4]\n"
     ]
    }
   ],
   "source": [
    "fi=np.array([2,3,4])\n",
    "x=[True,False,True]\n",
    "print(fi[x])"
   ]
  },
  {
   "cell_type": "markdown",
   "id": "f3d4e0cb-82e1-4b2f-8e7f-f54b309de53c",
   "metadata": {},
   "source": [
    "## Shuffle"
   ]
  },
  {
   "cell_type": "code",
   "execution_count": 48,
   "id": "085b0f94-caa6-41e4-a53d-c454f773ca6b",
   "metadata": {},
   "outputs": [
    {
     "name": "stdout",
     "output_type": "stream",
     "text": [
      " shuffle : \n",
      " [23  3 68  4  5]\n"
     ]
    }
   ],
   "source": [
    "sh=np.array([3,4,5,68,23])\n",
    "sh1=np.random.shuffle(sh)\n",
    "print(\" shuffle : \\n\",sh)"
   ]
  },
  {
   "cell_type": "code",
   "execution_count": null,
   "id": "c41ec5fa-adfa-40f8-b7f6-7c96896c9b97",
   "metadata": {},
   "outputs": [],
   "source": []
  },
  {
   "cell_type": "markdown",
   "id": "98f92e23-7aae-4eb2-a427-f57258419184",
   "metadata": {},
   "source": [
    "## uniqe "
   ]
  },
  {
   "cell_type": "code",
   "execution_count": 53,
   "id": "2aed6e43-ef52-439b-bff6-f72eb35335fa",
   "metadata": {},
   "outputs": [
    {
     "name": "stdout",
     "output_type": "stream",
     "text": [
      "[1 2 3 4 5 6 7 8 9]\n"
     ]
    }
   ],
   "source": [
    "uni=np.array([1,1,3,4,5,6,7,8,9,4,3,2])\n",
    "un=np.unique(uni)\n",
    "print(un)"
   ]
  },
  {
   "cell_type": "markdown",
   "id": "d715aa04-ec72-491e-8b5f-7e814b34ad85",
   "metadata": {},
   "source": [
    "# Resize and ravel"
   ]
  },
  {
   "cell_type": "code",
   "execution_count": 61,
   "id": "f424d206-b850-40ca-a877-63a86e686aeb",
   "metadata": {},
   "outputs": [
    {
     "name": "stdout",
     "output_type": "stream",
     "text": [
      "resize array\n",
      " [[23  4]\n",
      " [56 78]]\n",
      "\n",
      "sort aray\n",
      " [[ 4 23]\n",
      " [56 78]]\n"
     ]
    }
   ],
   "source": [
    "# resize \n",
    "re=([23,4,56,78,9,8])\n",
    "res=np.resize(re,(2,2))\n",
    "print(\"resize array\\n\",res)\n",
    "print()\n",
    "res1=np.sort(res)\n",
    "print(\"sort aray\\n\",res1)\n"
   ]
  },
  {
   "cell_type": "code",
   "execution_count": 71,
   "id": "feb03239-adc1-40a5-ab92-dfaf31e2e7f4",
   "metadata": {},
   "outputs": [
    {
     "name": "stdout",
     "output_type": "stream",
     "text": [
      "[34  5  6  7 84  4]\n"
     ]
    }
   ],
   "source": [
    "# ravel\n",
    "v=np.array([34,5,6,7,84,4])\n",
    "v1=np.ravel(v)\n",
    "print(v1)"
   ]
  },
  {
   "cell_type": "markdown",
   "id": "c2bf18d2-e656-4f14-9e50-cb260e12642e",
   "metadata": {},
   "source": [
    "# insert and deletion"
   ]
  },
  {
   "cell_type": "code",
   "execution_count": 89,
   "id": "b8b2fb69-8062-497a-885f-9fb607be2e6e",
   "metadata": {},
   "outputs": [
    {
     "name": "stdout",
     "output_type": "stream",
     "text": [
      "before insertion array\n",
      " [30 56 54 56 78]\n",
      "\n",
      "after insertion array\n",
      " [30 56 45 54 56 78]\n"
     ]
    }
   ],
   "source": [
    "# insert\n",
    "nm=np.array([30,56,54,56,78])\n",
    "print(\"before insertion array\\n\",nm)\n",
    "print()\n",
    "se=np.insert(nm,2,45) # first in array of name ,second is index number and last is value(arr,2,45)\n",
    "print( \"after insertion array\\n\",se)"
   ]
  },
  {
   "cell_type": "code",
   "execution_count": 91,
   "id": "ff9c8147-c952-40b2-94b7-97f81cbeb6b3",
   "metadata": {},
   "outputs": [
    {
     "name": "stdout",
     "output_type": "stream",
     "text": [
      "[34  3  6  4]\n"
     ]
    }
   ],
   "source": [
    "# deletion\n",
    "de=np.array([34,3,45,6,4])\n",
    "fg=np.delete(de,2) # deletion index 2 n of value\n",
    "print(fg)"
   ]
  },
  {
   "cell_type": "code",
   "execution_count": null,
   "id": "be7bb180-2b51-407c-9a35-e9ed3ed59cb8",
   "metadata": {},
   "outputs": [],
   "source": []
  }
 ],
 "metadata": {
  "kernelspec": {
   "display_name": "Python 3 (ipykernel)",
   "language": "python",
   "name": "python3"
  },
  "language_info": {
   "codemirror_mode": {
    "name": "ipython",
    "version": 3
   },
   "file_extension": ".py",
   "mimetype": "text/x-python",
   "name": "python",
   "nbconvert_exporter": "python",
   "pygments_lexer": "ipython3",
   "version": "3.12.7"
  }
 },
 "nbformat": 4,
 "nbformat_minor": 5
}
