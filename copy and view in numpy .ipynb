{
 "cells": [
  {
   "cell_type": "code",
   "execution_count": 4,
   "id": "8f75590c-da85-46a8-8a6d-26de0ce243e1",
   "metadata": {},
   "outputs": [],
   "source": [
    "import numpy as np\n"
   ]
  },
  {
   "cell_type": "markdown",
   "id": "586c9c41-9ad9-410c-b851-699e61df33ab",
   "metadata": {},
   "source": [
    "# Copy and view"
   ]
  },
  {
   "cell_type": "markdown",
   "id": "8b933cd9-dac7-431e-8a86-316f5f87091f",
   "metadata": {},
   "source": [
    "### Copy "
   ]
  },
  {
   "cell_type": "code",
   "execution_count": 12,
   "id": "270b5548-57ec-4f55-bf7b-8c9b343fe6a1",
   "metadata": {},
   "outputs": [
    {
     "name": "stdout",
     "output_type": "stream",
     "text": [
      "original array :\n",
      "  [2 3 5 6 8]\n",
      "\n",
      "copy array :\n",
      "  [2 3 5 6 8]\n",
      "dimension: 1\n"
     ]
    }
   ],
   "source": [
    "# one dimensional array \n",
    "arr=np.array([2,3,5,6,8]) # original array\n",
    "print(\"original array :\\n \",arr)\n",
    "print()\n",
    "c=arr.copy()\n",
    "print(\"copy array :\\n \",c) # copy array\n",
    "print()\n",
    "print(\"dimension:\",c.ndim) # dimension"
   ]
  },
  {
   "cell_type": "code",
   "execution_count": 14,
   "id": "9642d68b-b58f-4798-8860-2dcfe8fb5393",
   "metadata": {},
   "outputs": [
    {
     "name": "stdout",
     "output_type": "stream",
     "text": [
      " original array array : \n",
      " [[ 2  3  4]\n",
      " [12 13 14]]\n",
      "\n",
      "copy array : \n",
      " [[ 2  3  4]\n",
      " [12 13 14]]\n",
      "\n",
      "dimension: 2\n"
     ]
    }
   ],
   "source": [
    "# Two dimensional array\n",
    "ar=np.array([[2,3,4],[12,13,14]])\n",
    "print(\" original array array : \\n\",ar)\n",
    "print()\n",
    "x=ar.copy()\n",
    "print(\"copy array : \\n\",x)\n",
    "print()\n",
    "print(\"dimension:\",x.ndim) # dimension"
   ]
  },
  {
   "cell_type": "markdown",
   "id": "650d0daa-dbc9-482d-83dc-ff66a9e732a7",
   "metadata": {},
   "source": [
    "## View"
   ]
  },
  {
   "cell_type": "code",
   "execution_count": 19,
   "id": "6b9e0b64-d03f-47e0-8fd1-c9fdc1df3d81",
   "metadata": {},
   "outputs": [
    {
     "name": "stdout",
     "output_type": "stream",
     "text": [
      " original array \n",
      " [12 13 15]\n",
      "\n",
      "view array : \n",
      " [12 13 15]\n",
      "\n",
      "dimension :  1\n"
     ]
    }
   ],
   "source": [
    "# one dimension\n",
    "p=np.array([12,13,15])\n",
    "print(\" original array \\n\",p)\n",
    "print()\n",
    "p1=p.view()\n",
    "print(\"view array : \\n\",p1)\n",
    "print()\n",
    "print(\"dimension : \",p1.ndim)"
   ]
  },
  {
   "cell_type": "code",
   "execution_count": 21,
   "id": "97256c3a-e236-4e40-b5f0-83ad34c54e50",
   "metadata": {},
   "outputs": [
    {
     "name": "stdout",
     "output_type": "stream",
     "text": [
      " original array array : \n",
      " [[ 2  3  4]\n",
      " [12 13 14]]\n",
      "\n",
      "view array : \n",
      " [[ 2  3  4]\n",
      " [12 13 14]]\n",
      "\n",
      "dimension: 2\n"
     ]
    }
   ],
   "source": [
    "# Two dimensional array\n",
    "ar1=np.array([[2,3,4],[12,13,14]])\n",
    "print(\" original array array : \\n\",ar1)\n",
    "print()\n",
    "x1=ar1.view()\n",
    "print(\"view array : \\n\",x1)\n",
    "print()\n",
    "print(\"dimension:\",x1.ndim) # dimension"
   ]
  },
  {
   "cell_type": "markdown",
   "id": "4ee3a52c-3ba7-41cb-b4f4-e839a3ce7c30",
   "metadata": {},
   "source": [
    "### Join array"
   ]
  },
  {
   "cell_type": "code",
   "execution_count": 22,
   "id": "3fa5d9bf-4a38-400a-ac3a-ee4ca5c4e9b0",
   "metadata": {},
   "outputs": [
    {
     "name": "stdout",
     "output_type": "stream",
     "text": [
      "[ 3  4  5 10 12 13]\n"
     ]
    }
   ],
   "source": [
    "j=np.array([3,4,5])\n",
    "l=np.array([10,12,13])\n",
    "n=np.concatenate((j,l),axis=0)\n",
    "print(n)"
   ]
  },
  {
   "cell_type": "markdown",
   "id": "296e7e62-98e4-41ee-b666-2df9af483c1f",
   "metadata": {},
   "source": [
    "### Marze"
   ]
  },
  {
   "cell_type": "code",
   "execution_count": 35,
   "id": "f2451c65-bd4a-418c-b37f-571414d11bb0",
   "metadata": {},
   "outputs": [
    {
     "name": "stdout",
     "output_type": "stream",
     "text": [
      "acoding to 0 axis [[12 15 23 24]\n",
      " [10 20 30 40]]\n",
      "\n",
      "acoding to 1 axis:\n",
      " [[12 10]\n",
      " [15 20]\n",
      " [23 30]\n",
      " [24 40]]\n",
      "\n",
      "dimension : 2\n"
     ]
    }
   ],
   "source": [
    "m=np.array([12,15,23,24])\n",
    "r=np.array([10,20,30,40])\n",
    "z=np.stack((m,r),axis=0) # acoding to 0 axis\n",
    "print(\"acoding to 0 axis\",z)\n",
    "print()\n",
    "z1=np.stack((m,r),axis=1) # acoding to 1 axis\n",
    "print(\"acoding to 1 axis:\\n\" ,z1)\n",
    "print()\n",
    "print(\"dimension :\",z.ndim)"
   ]
  },
  {
   "cell_type": "markdown",
   "id": "7c1c2fcb-a3a1-4bc3-aefa-3925b59ad10f",
   "metadata": {},
   "source": [
    "### Split array"
   ]
  },
  {
   "cell_type": "code",
   "execution_count": 41,
   "id": "03130e0d-197f-4f29-91aa-3aa62c2f3c58",
   "metadata": {},
   "outputs": [
    {
     "name": "stdout",
     "output_type": "stream",
     "text": [
      "[array([ 2, 12]), array([23, 45]), array([67, 45])]\n"
     ]
    }
   ],
   "source": [
    "h=np.array([2,12,23,45,67,45])\n",
    "h1=np.split(h,3)\n",
    "print(h1)\n"
   ]
  },
  {
   "cell_type": "code",
   "execution_count": null,
   "id": "92d64744-5ca5-4210-9ad9-49a2cfcdd27e",
   "metadata": {},
   "outputs": [],
   "source": []
  }
 ],
 "metadata": {
  "kernelspec": {
   "display_name": "Python 3 (ipykernel)",
   "language": "python",
   "name": "python3"
  },
  "language_info": {
   "codemirror_mode": {
    "name": "ipython",
    "version": 3
   },
   "file_extension": ".py",
   "mimetype": "text/x-python",
   "name": "python",
   "nbconvert_exporter": "python",
   "pygments_lexer": "ipython3",
   "version": "3.12.7"
  }
 },
 "nbformat": 4,
 "nbformat_minor": 5
}
