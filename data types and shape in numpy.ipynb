{
 "cells": [
  {
   "cell_type": "code",
   "execution_count": 10,
   "id": "6421e417-0e31-486a-af27-2c2b463cf80d",
   "metadata": {},
   "outputs": [],
   "source": [
    "import numpy as np\n",
    " "
   ]
  },
  {
   "cell_type": "markdown",
   "id": "782027da-e39a-4eca-9f99-788f8af8c18c",
   "metadata": {},
   "source": [
    "# Data types in numpy array"
   ]
  },
  {
   "cell_type": "markdown",
   "id": "7d712293-4dc2-4bed-ac56-9ce8b68481f6",
   "metadata": {},
   "source": [
    "## Integers data type"
   ]
  },
  {
   "cell_type": "code",
   "execution_count": 13,
   "id": "9e02fd6a-3590-4b0e-b5e8-5541a166cb05",
   "metadata": {},
   "outputs": [
    {
     "name": "stdout",
     "output_type": "stream",
     "text": [
      "[5 6 7]\n",
      "\n",
      "Data type : int32\n"
     ]
    }
   ],
   "source": [
    "ar=np.array([5,6,7])\n",
    "print(ar)\n",
    "print()\n",
    "print(\"Data type :\",ar.dtype)"
   ]
  },
  {
   "cell_type": "markdown",
   "id": "5ece01de-5cd5-41ff-9006-cf97a67a2faf",
   "metadata": {},
   "source": [
    "### Float data type"
   ]
  },
  {
   "cell_type": "code",
   "execution_count": 39,
   "id": "ecf40ca4-d221-424e-8ace-897b1c0f24ad",
   "metadata": {},
   "outputs": [
    {
     "name": "stdout",
     "output_type": "stream",
     "text": [
      "[2.3 4.3 5.6]\n",
      "Data type :  float64\n"
     ]
    }
   ],
   "source": [
    "arr=np.array([2.3,4.3,5.6])\n",
    " \n",
    "print(arr)\n",
    "print(\"Data type : \", arr.dtype)"
   ]
  },
  {
   "cell_type": "code",
   "execution_count": 16,
   "id": "f76dc969-d255-40ee-9851-3c80ab034d5d",
   "metadata": {},
   "outputs": [
    {
     "name": "stdout",
     "output_type": "stream",
     "text": [
      "[ True False  True  True False]\n",
      "\n",
      "Data type :  bool\n"
     ]
    }
   ],
   "source": [
    " ar1=np.array([True,False,True,True,False])\n",
    "print(ar1)\n",
    "print()\n",
    "print(\"Data type : \",ar1.dtype)\n"
   ]
  },
  {
   "cell_type": "markdown",
   "id": "a5ef7c07-ca3b-434f-aedb-e4ee7f241730",
   "metadata": {},
   "source": [
    "# Change data type"
   ]
  },
  {
   "cell_type": "code",
   "execution_count": 67,
   "id": "f44593f1-b2e7-4f1e-93a0-5bb9291c6bd2",
   "metadata": {},
   "outputs": [
    {
     "name": "stdout",
     "output_type": "stream",
     "text": [
      "[4. 5. 7.]\n"
     ]
    }
   ],
   "source": [
    "p=np.array([4,5,7],dtype=\"f\")# integer to float change \n",
    "print(p)\n"
   ]
  },
  {
   "cell_type": "markdown",
   "id": "8fa827d1-ae0e-4998-a215-6d5b44e1f8a8",
   "metadata": {},
   "source": [
    "# Shape"
   ]
  },
  {
   "cell_type": "code",
   "execution_count": 63,
   "id": "bc02583e-1603-4f3f-be87-4eb18a5c5ed2",
   "metadata": {},
   "outputs": [
    {
     "name": "stdout",
     "output_type": "stream",
     "text": [
      "[[5 6]\n",
      " [6 8]\n",
      " [3 6]]\n",
      "(3, 2)\n",
      "Dimension :  2\n"
     ]
    }
   ],
   "source": [
    "a=np.array([[5,6],[6,8],[3,6]])\n",
    "print(a)\n",
    "print(a.shape) # fiend row and colom\n",
    "print(\"Dimension : \",a.ndim)"
   ]
  },
  {
   "cell_type": "code",
   "execution_count": 73,
   "id": "a2149b1c-95c2-458b-9419-e9bd5be0d649",
   "metadata": {},
   "outputs": [
    {
     "name": "stdout",
     "output_type": "stream",
     "text": [
      "[[4 7 7]\n",
      " [8 9 6]\n",
      " [5 3 2]]\n",
      "\n",
      "(3, 3)\n"
     ]
    }
   ],
   "source": [
    "m=np.array([[4,7,7],[8,9,6],[5,3,2]])\n",
    "print(m)\n",
    "print()\n",
    "print(m.shape)"
   ]
  },
  {
   "cell_type": "markdown",
   "id": "886d5c94-d0d9-423a-b7eb-fb3150281068",
   "metadata": {},
   "source": [
    "### Re-shape"
   ]
  },
  {
   "cell_type": "code",
   "execution_count": 33,
   "id": "cc5b1fdb-e388-488c-8ab5-d9f80577c3f0",
   "metadata": {},
   "outputs": [],
   "source": [
    "import numpy as np"
   ]
  },
  {
   "cell_type": "code",
   "execution_count": 61,
   "id": "cf35b93c-572f-47ac-a984-5385a4b1d53b",
   "metadata": {},
   "outputs": [
    {
     "name": "stdout",
     "output_type": "stream",
     "text": [
      "[[2 3]\n",
      " [4 5]\n",
      " [7 8]]\n"
     ]
    }
   ],
   "source": [
    "ax=np.array([2,3,4,5,7,8])\n",
    "y=ax.reshape(3,2) # value enter the row and colom (3 row and 2 colom)\n",
    "print(y)"
   ]
  },
  {
   "cell_type": "code",
   "execution_count": 68,
   "id": "26e5d7b8-5d70-4a3b-bfbd-4ab5a36ace20",
   "metadata": {},
   "outputs": [
    {
     "name": "stdout",
     "output_type": "stream",
     "text": [
      "[[4 6]\n",
      " [7 8]\n",
      " [9 0]]\n"
     ]
    }
   ],
   "source": [
    "z=np.array([4,6,7,8,9,0])\n",
    "q=z.reshape(3,2)\n",
    "print(q)"
   ]
  },
  {
   "cell_type": "code",
   "execution_count": null,
   "id": "4d19322b-86f6-4913-b8db-b9d31614bab2",
   "metadata": {},
   "outputs": [],
   "source": []
  }
 ],
 "metadata": {
  "kernelspec": {
   "display_name": "Python 3 (ipykernel)",
   "language": "python",
   "name": "python3"
  },
  "language_info": {
   "codemirror_mode": {
    "name": "ipython",
    "version": 3
   },
   "file_extension": ".py",
   "mimetype": "text/x-python",
   "name": "python",
   "nbconvert_exporter": "python",
   "pygments_lexer": "ipython3",
   "version": "3.12.7"
  }
 },
 "nbformat": 4,
 "nbformat_minor": 5
}
