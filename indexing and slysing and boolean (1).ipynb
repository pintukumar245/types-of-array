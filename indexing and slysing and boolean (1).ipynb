{
 "cells": [
  {
   "cell_type": "code",
   "execution_count": 4,
   "id": "0b062570-4a23-4edb-9522-5835ff8c02f8",
   "metadata": {},
   "outputs": [],
   "source": [
    "import numpy as np\n"
   ]
  },
  {
   "cell_type": "markdown",
   "id": "901b7dbe-c3c1-47e8-9c53-74af67b53fc0",
   "metadata": {},
   "source": [
    "# Slicing and indexing"
   ]
  },
  {
   "cell_type": "markdown",
   "id": "f00fea36-fb85-41bb-ad63-43b81e29b26f",
   "metadata": {},
   "source": [
    "### Indexing"
   ]
  },
  {
   "cell_type": "code",
   "execution_count": 21,
   "id": "73ae3365-1548-42ed-a65b-263eed2bcb5d",
   "metadata": {},
   "outputs": [
    {
     "name": "stdout",
     "output_type": "stream",
     "text": [
      "Element :  5\n",
      "\n",
      "Element :  5\n"
     ]
    }
   ],
   "source": [
    "arr=np.array([4,5,6,7])\n",
    "print(\"Element : \",arr[1]) # index number =1 (indexing start to 0 )\n",
    "print()\n",
    "print(\"Element : \",arr[-3])"
   ]
  },
  {
   "cell_type": "code",
   "execution_count": 19,
   "id": "2d70fcd4-a84a-4ade-b859-bd2802d18070",
   "metadata": {},
   "outputs": [
    {
     "name": "stdout",
     "output_type": "stream",
     "text": [
      "9\n"
     ]
    }
   ],
   "source": [
    "ar= np.array([[3,4,5],[6,8,9]]) # two dimension array\n",
    "print(ar[1,2]) # first value of row and second value of column "
   ]
  },
  {
   "cell_type": "markdown",
   "id": "93aae9b2-9cb9-4db4-9f50-853b29c090b5",
   "metadata": {},
   "source": [
    "### Slicing "
   ]
  },
  {
   "cell_type": "code",
   "execution_count": 34,
   "id": "f7ad7a80-dec6-4459-8970-3e407c531855",
   "metadata": {},
   "outputs": [
    {
     "name": "stdout",
     "output_type": "stream",
     "text": [
      "sliced array: [40 20 30]\n",
      "dimension: 1\n"
     ]
    }
   ],
   "source": [
    "x=np.array([10,40,20,30,50])\n",
    "print(\"sliced array:\",x[1:4])\n",
    "print(\"dimension:\",x.ndim)"
   ]
  },
  {
   "cell_type": "code",
   "execution_count": 33,
   "id": "9a55b71d-8644-49a5-a6af-62dbf132e047",
   "metadata": {},
   "outputs": [
    {
     "name": "stdout",
     "output_type": "stream",
     "text": [
      "sliced array: [[5 8 9]]\n",
      "dimension: 2\n"
     ]
    }
   ],
   "source": [
    "x1=np.array([[3,4,5],[5,8,9]])\n",
    "print(\"sliced array:\",x1[1:3])\n",
    "print(\"dimension:\",x1.ndim)"
   ]
  },
  {
   "cell_type": "code",
   "execution_count": 40,
   "id": "0633d4c0-c09f-47f6-966a-f74fafd19a39",
   "metadata": {},
   "outputs": [
    {
     "name": "stdout",
     "output_type": "stream",
     "text": [
      "sliced array:\n",
      " [[5 8]\n",
      " [4 7]]\n",
      "\n",
      "dimension: 2\n"
     ]
    }
   ],
   "source": [
    "y=np.array([[3,4,5],[5,8,9],[4,7,9]])\n",
    "print(\"sliced array:\\n\",y[1:3,0:2])\n",
    "print()\n",
    "print(\"dimension:\",y.ndim)"
   ]
  },
  {
   "cell_type": "markdown",
   "id": "c8216b5b-56bd-4642-92d7-1ddb36148382",
   "metadata": {},
   "source": [
    "### Boolean indexing"
   ]
  },
  {
   "cell_type": "code",
   "execution_count": 47,
   "id": "489ab6f1-f87e-4226-a656-53420365c0fd",
   "metadata": {},
   "outputs": [
    {
     "name": "stdout",
     "output_type": "stream",
     "text": [
      ">3\n",
      " [5 6 7 9]\n",
      "\n",
      "<3\n",
      ": [2]\n",
      "dimension : 1\n"
     ]
    }
   ],
   "source": [
    "p=np.array([2,3,5,6,7,9])\n",
    "print(\">3\\n\",p[p>3]) # element greater than 3 value print\n",
    "print()\n",
    "print(\"<3\\n:\",p[p<3])\n",
    "print(\"dimension :\",p.ndim)"
   ]
  },
  {
   "cell_type": "code",
   "execution_count": 49,
   "id": "0e96178d-c2ec-4421-9af9-a119f89fea4e",
   "metadata": {},
   "outputs": [
    {
     "name": "stdout",
     "output_type": "stream",
     "text": [
      "grater than 10 \n",
      " [12 13 14 15]\n",
      "\n",
      "less than 10\n",
      " [4 5 6 3]\n"
     ]
    }
   ],
   "source": [
    "x=np.array([[4,5,6],[12,13,14],[15,3,10]])\n",
    "print( \"grater than 10 \\n\",x[x>10])\n",
    "print()\n",
    "print(\"less than 10\\n\",x[x<10])"
   ]
  },
  {
   "cell_type": "code",
   "execution_count": null,
   "id": "0d13f9dd-1d86-4e9b-a4a2-fbd458e128cb",
   "metadata": {},
   "outputs": [],
   "source": []
  }
 ],
 "metadata": {
  "kernelspec": {
   "display_name": "Python 3 (ipykernel)",
   "language": "python",
   "name": "python3"
  },
  "language_info": {
   "codemirror_mode": {
    "name": "ipython",
    "version": 3
   },
   "file_extension": ".py",
   "mimetype": "text/x-python",
   "name": "python",
   "nbconvert_exporter": "python",
   "pygments_lexer": "ipython3",
   "version": "3.12.7"
  }
 },
 "nbformat": 4,
 "nbformat_minor": 5
}
