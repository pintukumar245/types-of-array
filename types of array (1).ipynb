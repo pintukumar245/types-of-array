{
 "cells": [
  {
   "cell_type": "code",
   "execution_count": 126,
   "id": "186d9c92-81b1-4c1e-b184-7381f641e4a2",
   "metadata": {},
   "outputs": [],
   "source": [
    "import numpy as np\n"
   ]
  },
  {
   "cell_type": "markdown",
   "id": "bae3013a-ec90-441c-877c-f8d94c2a61fb",
   "metadata": {},
   "source": [
    "# Types of array in numpy"
   ]
  },
  {
   "cell_type": "markdown",
   "id": "22ef2527-83c1-4921-aa0b-99e330e0c5e2",
   "metadata": {},
   "source": [
    "### Zeros array"
   ]
  },
  {
   "cell_type": "code",
   "execution_count": 127,
   "id": "95614c4e-be94-4e0d-a3a7-b8250f83ec34",
   "metadata": {},
   "outputs": [
    {
     "name": "stdout",
     "output_type": "stream",
     "text": [
      "[0. 0. 0.]\n"
     ]
    }
   ],
   "source": [
    "#import numpy as np\n",
    "z=np.zeros(3)\n",
    "print(z)"
   ]
  },
  {
   "cell_type": "code",
   "execution_count": 128,
   "id": "adc74ffa-a1df-4f6c-84d9-ce5a1df4560e",
   "metadata": {},
   "outputs": [
    {
     "name": "stdout",
     "output_type": "stream",
     "text": [
      "[0. 0. 0. 0. 0. 0. 0. 0. 0.]\n"
     ]
    }
   ],
   "source": [
    "y=np.zeros(9)\n",
    "print(y)"
   ]
  },
  {
   "cell_type": "code",
   "execution_count": 129,
   "id": "9e2c4018-8491-430b-b6af-df9786b4369f",
   "metadata": {},
   "outputs": [
    {
     "name": "stdout",
     "output_type": "stream",
     "text": [
      "[[0. 0. 0. 0.]\n",
      " [0. 0. 0. 0.]\n",
      " [0. 0. 0. 0.]]\n",
      "\n",
      "type of class: <class 'numpy.ndarray'>\n",
      "\n",
      "dimension: 2\n",
      "\n",
      "data type: float64\n"
     ]
    }
   ],
   "source": [
    "x=np.zeros((3,4))\n",
    "print(x)\n",
    "print()\n",
    "print(\"type of class:\",type(x))\n",
    "print()\n",
    "print(\"dimension:\",x.ndim)\n",
    "print()\n",
    "print(\"data type:\",x.dtype)"
   ]
  },
  {
   "cell_type": "code",
   "execution_count": 130,
   "id": "437f1bd4-0d4f-4a44-8f19-a947f41e9654",
   "metadata": {},
   "outputs": [
    {
     "name": "stdout",
     "output_type": "stream",
     "text": [
      "[[[0. 0. 0. 0. 0.]\n",
      "  [0. 0. 0. 0. 0.]\n",
      "  [0. 0. 0. 0. 0.]\n",
      "  [0. 0. 0. 0. 0.]]\n",
      "\n",
      " [[0. 0. 0. 0. 0.]\n",
      "  [0. 0. 0. 0. 0.]\n",
      "  [0. 0. 0. 0. 0.]\n",
      "  [0. 0. 0. 0. 0.]]\n",
      "\n",
      " [[0. 0. 0. 0. 0.]\n",
      "  [0. 0. 0. 0. 0.]\n",
      "  [0. 0. 0. 0. 0.]\n",
      "  [0. 0. 0. 0. 0.]]]\n",
      "\n",
      "type of class: <class 'numpy.ndarray'>\n",
      "\n",
      "dimension: 3\n",
      "\n",
      "data type: float64\n"
     ]
    }
   ],
   "source": [
    "x1=np.zeros((3,4,5))\n",
    "print(z1)\n",
    "print()\n",
    "print(\"type of class:\",type(x1))\n",
    "print()\n",
    "print(\"dimension:\",x1.ndim)\n",
    "print()\n",
    "print(\"data type:\",x1.dtype)"
   ]
  },
  {
   "cell_type": "markdown",
   "id": "f9f55150-973e-4c0b-b114-cb702cff5879",
   "metadata": {},
   "source": [
    "### Ones"
   ]
  },
  {
   "cell_type": "code",
   "execution_count": 131,
   "id": "1241513e-0dc2-40fc-b481-1b531ebfdcce",
   "metadata": {},
   "outputs": [
    {
     "name": "stdout",
     "output_type": "stream",
     "text": [
      "[1. 1. 1.]\n",
      "\n",
      "<class 'numpy.ndarray'>\n",
      "\n",
      "float64\n",
      "\n",
      "1\n"
     ]
    }
   ],
   "source": [
    "v=np.ones(3)\n",
    "print(v)\n",
    "print()\n",
    "print(type(v)) # class type\n",
    "print()\n",
    "print(v.dtype) # data of type\n",
    "print()\n",
    "print(v.ndim) # dimension"
   ]
  },
  {
   "cell_type": "markdown",
   "id": "d63840ee-4342-41b2-b16f-047771c3885f",
   "metadata": {},
   "source": [
    "##### Creat array"
   ]
  },
  {
   "cell_type": "code",
   "execution_count": 132,
   "id": "2a17adbf-b2ed-45fc-9358-39cd007eab10",
   "metadata": {},
   "outputs": [
    {
     "name": "stdout",
     "output_type": "stream",
     "text": [
      "[[[1. 1. 1. 1.]\n",
      "  [1. 1. 1. 1.]\n",
      "  [1. 1. 1. 1.]]\n",
      "\n",
      " [[1. 1. 1. 1.]\n",
      "  [1. 1. 1. 1.]\n",
      "  [1. 1. 1. 1.]]]\n"
     ]
    }
   ],
   "source": [
    "v1=np.ones((2,3,4))\n",
    "print(v1)"
   ]
  },
  {
   "cell_type": "markdown",
   "id": "41c190fa-75c1-44f0-bb70-d2cea5616e89",
   "metadata": {},
   "source": [
    "#### Types of class"
   ]
  },
  {
   "cell_type": "code",
   "execution_count": 133,
   "id": "6d2812f0-a737-4e57-95d0-0fcd1630bf40",
   "metadata": {},
   "outputs": [
    {
     "name": "stdout",
     "output_type": "stream",
     "text": [
      "<class 'numpy.ndarray'>\n"
     ]
    }
   ],
   "source": [
    "print(type(v1))"
   ]
  },
  {
   "cell_type": "markdown",
   "id": "4afde61a-d6a7-4b3f-a38e-30068bcf6525",
   "metadata": {},
   "source": [
    "#### Data type"
   ]
  },
  {
   "cell_type": "code",
   "execution_count": 134,
   "id": "d169048d-0ab8-4ebf-b86b-11e8bc05f440",
   "metadata": {},
   "outputs": [
    {
     "name": "stdout",
     "output_type": "stream",
     "text": [
      "float64\n"
     ]
    }
   ],
   "source": [
    "print(v1.dtype)"
   ]
  },
  {
   "cell_type": "markdown",
   "id": "d8ac023a-e133-42ec-9954-a24df4671ee4",
   "metadata": {},
   "source": [
    "#### Dimension"
   ]
  },
  {
   "cell_type": "code",
   "execution_count": 135,
   "id": "a5f4f1f4-944b-4ff6-9863-4c79801169fa",
   "metadata": {},
   "outputs": [
    {
     "name": "stdout",
     "output_type": "stream",
     "text": [
      "3\n"
     ]
    }
   ],
   "source": [
    "print(v1.ndim)"
   ]
  },
  {
   "cell_type": "markdown",
   "id": "30c2b739-e8cf-4342-aab8-cf439e3c1cfa",
   "metadata": {},
   "source": [
    "## Empty array"
   ]
  },
  {
   "cell_type": "code",
   "execution_count": 136,
   "id": "a781b27e-db50-419a-bebf-5d1483ca4398",
   "metadata": {},
   "outputs": [
    {
     "name": "stdout",
     "output_type": "stream",
     "text": [
      "[5.43230922e-312 7.29112202e-304]\n"
     ]
    }
   ],
   "source": [
    "n=np.empty(2)\n",
    "print(n)"
   ]
  },
  {
   "cell_type": "code",
   "execution_count": 137,
   "id": "158ea309-9cf0-464b-aa28-8229d22b7a7c",
   "metadata": {},
   "outputs": [
    {
     "name": "stdout",
     "output_type": "stream",
     "text": [
      "[7.74860419e-304 7.74860419e-304 7.74860419e-304]\n"
     ]
    }
   ],
   "source": [
    "a=np.empty((3))\n",
    "print(a)"
   ]
  },
  {
   "cell_type": "markdown",
   "id": "4dfacf41-3cd0-410e-ad66-74632ef29cf1",
   "metadata": {},
   "source": [
    "## Range"
   ]
  },
  {
   "cell_type": "markdown",
   "id": "c1b5a7ce-6d8d-436a-9deb-1d8dad3e5e19",
   "metadata": {},
   "source": [
    "b=np.arange(3)\n",
    "print(b)"
   ]
  },
  {
   "cell_type": "markdown",
   "id": "c7bb4a07-df84-4065-bf9a-a8d2a78221a8",
   "metadata": {},
   "source": [
    "## digonal array"
   ]
  },
  {
   "cell_type": "code",
   "execution_count": 138,
   "id": "ff2c7f75-d041-49c2-b3aa-fd4c19fd23f5",
   "metadata": {},
   "outputs": [
    {
     "name": "stdout",
     "output_type": "stream",
     "text": [
      "[[1. 0. 0. 0.]\n",
      " [0. 1. 0. 0.]\n",
      " [0. 0. 1. 0.]\n",
      " [0. 0. 0. 1.]]\n",
      "\n",
      " Class type :  <class 'numpy.ndarray'>\n",
      "\n",
      "Type of data :  float64\n",
      "\n",
      "dimension :  2\n"
     ]
    }
   ],
   "source": [
    "c=np.eye(4) # 4*4 dignoal matrix\n",
    "\n",
    "print(c)\n",
    "print()\n",
    "print(\" Class type : \",type(c))\n",
    "print()\n",
    "print(\"Type of data : \",c.dtype)\n",
    "print()\n",
    "print(\"dimension : \",c.ndim)"
   ]
  },
  {
   "cell_type": "markdown",
   "id": "9b82845c-0f2d-4f0e-a2d8-7130af947fd6",
   "metadata": {},
   "source": [
    "### 2D dignoal"
   ]
  },
  {
   "cell_type": "code",
   "execution_count": 139,
   "id": "e8e72d35-c76f-476c-8f2a-0e9989f2d1ad",
   "metadata": {},
   "outputs": [
    {
     "name": "stdout",
     "output_type": "stream",
     "text": [
      "[[1. 0.]\n",
      " [0. 1.]\n",
      " [0. 0.]\n",
      " [0. 0.]]\n",
      "\n",
      " Class type :  <class 'numpy.ndarray'>\n",
      "\n",
      "Type of data :  float64\n",
      "\n",
      "dimension :  2\n"
     ]
    }
   ],
   "source": [
    "c1=np.eye(4,2) # 4*2 dignoal matrix\n",
    "\n",
    "print(c1)\n",
    "print()\n",
    "print(\" Class type : \",type(c1))\n",
    "print()\n",
    "print(\"Type of data : \",c1.dtype)\n",
    "print()\n",
    "print(\"dimension : \",c1.ndim)"
   ]
  },
  {
   "cell_type": "markdown",
   "id": "de106214-0b4d-444a-8e16-a6f4dd6df2b9",
   "metadata": {},
   "source": [
    "### Line space"
   ]
  },
  {
   "cell_type": "code",
   "execution_count": 144,
   "id": "5f1e1b47-6312-4e48-bec5-4e4fa993d384",
   "metadata": {},
   "outputs": [
    {
     "name": "stdout",
     "output_type": "stream",
     "text": [
      "[ 0.  5. 10. 15. 20.]\n"
     ]
    }
   ],
   "source": [
    "d=np.linspace(0,20,num=5)\n",
    "print(d)"
   ]
  },
  {
   "cell_type": "code",
   "execution_count": 145,
   "id": "ebfbcfa6-ed92-4ede-b134-343dd9949e3e",
   "metadata": {},
   "outputs": [
    {
     "name": "stdout",
     "output_type": "stream",
     "text": [
      "[3. 6. 9.]\n"
     ]
    }
   ],
   "source": [
    "e=np.linspace(3,9,num=3) # starting point,ending point , how much space\n",
    "print(e)"
   ]
  },
  {
   "cell_type": "code",
   "execution_count": null,
   "id": "a20bd23f-fa12-49b0-b8ba-ce68910cf12e",
   "metadata": {},
   "outputs": [],
   "source": []
  }
 ],
 "metadata": {
  "kernelspec": {
   "display_name": "Python 3 (ipykernel)",
   "language": "python",
   "name": "python3"
  },
  "language_info": {
   "codemirror_mode": {
    "name": "ipython",
    "version": 3
   },
   "file_extension": ".py",
   "mimetype": "text/x-python",
   "name": "python",
   "nbconvert_exporter": "python",
   "pygments_lexer": "ipython3",
   "version": "3.12.7"
  }
 },
 "nbformat": 4,
 "nbformat_minor": 5
}
